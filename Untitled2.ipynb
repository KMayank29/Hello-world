{
 "cells": [
  {
   "cell_type": "code",
   "execution_count": 1,
   "metadata": {},
   "outputs": [],
   "source": [
    "import pandas as pd\n",
    "import numpy as np"
   ]
  },
  {
   "cell_type": "code",
   "execution_count": 2,
   "metadata": {},
   "outputs": [],
   "source": [
    "data_raw = pd.read_csv('C:/Users/Intel/Desktop/New folder/data.csv', skiprows=range(1,400000),nrows=195212)"
   ]
  },
  {
   "cell_type": "code",
   "execution_count": 3,
   "metadata": {},
   "outputs": [],
   "source": [
    "pd.set_option('max_columns', 60)"
   ]
  },
  {
   "cell_type": "code",
   "execution_count": 4,
   "metadata": {},
   "outputs": [
    {
     "data": {
      "text/html": [
       "<div>\n",
       "<style scoped>\n",
       "    .dataframe tbody tr th:only-of-type {\n",
       "        vertical-align: middle;\n",
       "    }\n",
       "\n",
       "    .dataframe tbody tr th {\n",
       "        vertical-align: top;\n",
       "    }\n",
       "\n",
       "    .dataframe thead th {\n",
       "        text-align: right;\n",
       "    }\n",
       "</style>\n",
       "<table border=\"1\" class=\"dataframe\">\n",
       "  <thead>\n",
       "    <tr style=\"text-align: right;\">\n",
       "      <th></th>\n",
       "      <th>id</th>\n",
       "      <th>target</th>\n",
       "      <th>ps_ind_01</th>\n",
       "      <th>ps_ind_02_cat</th>\n",
       "      <th>ps_ind_03</th>\n",
       "      <th>ps_ind_04_cat</th>\n",
       "      <th>ps_ind_05_cat</th>\n",
       "      <th>ps_ind_06_bin</th>\n",
       "      <th>ps_ind_07_bin</th>\n",
       "      <th>ps_ind_08_bin</th>\n",
       "      <th>ps_ind_09_bin</th>\n",
       "      <th>ps_ind_10_bin</th>\n",
       "      <th>ps_ind_11_bin</th>\n",
       "      <th>ps_ind_12_bin</th>\n",
       "      <th>ps_ind_13_bin</th>\n",
       "      <th>ps_ind_14</th>\n",
       "      <th>ps_ind_15</th>\n",
       "      <th>ps_ind_16_bin</th>\n",
       "      <th>ps_ind_17_bin</th>\n",
       "      <th>ps_ind_18_bin</th>\n",
       "      <th>ps_reg_01</th>\n",
       "      <th>ps_reg_02</th>\n",
       "      <th>ps_reg_03</th>\n",
       "      <th>ps_car_01_cat</th>\n",
       "      <th>ps_car_02_cat</th>\n",
       "      <th>ps_car_03_cat</th>\n",
       "      <th>ps_car_04_cat</th>\n",
       "      <th>ps_car_05_cat</th>\n",
       "      <th>ps_car_06_cat</th>\n",
       "      <th>ps_car_07_cat</th>\n",
       "      <th>ps_car_08_cat</th>\n",
       "      <th>ps_car_09_cat</th>\n",
       "      <th>ps_car_10_cat</th>\n",
       "      <th>ps_car_11_cat</th>\n",
       "      <th>ps_car_11</th>\n",
       "      <th>ps_car_12</th>\n",
       "      <th>ps_car_13</th>\n",
       "      <th>ps_car_14</th>\n",
       "      <th>ps_car_15</th>\n",
       "      <th>ps_calc_01</th>\n",
       "      <th>ps_calc_02</th>\n",
       "      <th>ps_calc_03</th>\n",
       "      <th>ps_calc_04</th>\n",
       "      <th>ps_calc_05</th>\n",
       "      <th>ps_calc_06</th>\n",
       "      <th>ps_calc_07</th>\n",
       "      <th>ps_calc_08</th>\n",
       "      <th>ps_calc_09</th>\n",
       "      <th>ps_calc_10</th>\n",
       "      <th>ps_calc_11</th>\n",
       "      <th>ps_calc_12</th>\n",
       "      <th>ps_calc_13</th>\n",
       "      <th>ps_calc_14</th>\n",
       "      <th>ps_calc_15_bin</th>\n",
       "      <th>ps_calc_16_bin</th>\n",
       "      <th>ps_calc_17_bin</th>\n",
       "      <th>ps_calc_18_bin</th>\n",
       "      <th>ps_calc_19_bin</th>\n",
       "      <th>ps_calc_20_bin</th>\n",
       "    </tr>\n",
       "  </thead>\n",
       "  <tbody>\n",
       "    <tr>\n",
       "      <th>0</th>\n",
       "      <td>400000</td>\n",
       "      <td>0</td>\n",
       "      <td>2</td>\n",
       "      <td>2</td>\n",
       "      <td>2</td>\n",
       "      <td>1</td>\n",
       "      <td>0</td>\n",
       "      <td>0</td>\n",
       "      <td>0</td>\n",
       "      <td>0</td>\n",
       "      <td>1</td>\n",
       "      <td>0</td>\n",
       "      <td>0</td>\n",
       "      <td>0</td>\n",
       "      <td>0</td>\n",
       "      <td>0</td>\n",
       "      <td>10</td>\n",
       "      <td>0</td>\n",
       "      <td>1</td>\n",
       "      <td>0</td>\n",
       "      <td>0.9</td>\n",
       "      <td>0.2</td>\n",
       "      <td>0.583631</td>\n",
       "      <td>10</td>\n",
       "      <td>1</td>\n",
       "      <td>-1</td>\n",
       "      <td>0</td>\n",
       "      <td>1</td>\n",
       "      <td>14</td>\n",
       "      <td>1</td>\n",
       "      <td>1</td>\n",
       "      <td>0</td>\n",
       "      <td>1</td>\n",
       "      <td>82</td>\n",
       "      <td>3</td>\n",
       "      <td>0.316228</td>\n",
       "      <td>0.613198</td>\n",
       "      <td>0.368511</td>\n",
       "      <td>2.645751</td>\n",
       "      <td>0.6</td>\n",
       "      <td>0.7</td>\n",
       "      <td>0.5</td>\n",
       "      <td>2</td>\n",
       "      <td>1</td>\n",
       "      <td>8</td>\n",
       "      <td>3</td>\n",
       "      <td>11</td>\n",
       "      <td>1</td>\n",
       "      <td>11</td>\n",
       "      <td>6</td>\n",
       "      <td>1</td>\n",
       "      <td>3</td>\n",
       "      <td>6</td>\n",
       "      <td>0</td>\n",
       "      <td>1</td>\n",
       "      <td>0</td>\n",
       "      <td>0</td>\n",
       "      <td>1</td>\n",
       "      <td>0</td>\n",
       "    </tr>\n",
       "    <tr>\n",
       "      <th>1</th>\n",
       "      <td>400001</td>\n",
       "      <td>0</td>\n",
       "      <td>0</td>\n",
       "      <td>2</td>\n",
       "      <td>1</td>\n",
       "      <td>0</td>\n",
       "      <td>0</td>\n",
       "      <td>1</td>\n",
       "      <td>0</td>\n",
       "      <td>0</td>\n",
       "      <td>0</td>\n",
       "      <td>0</td>\n",
       "      <td>0</td>\n",
       "      <td>0</td>\n",
       "      <td>0</td>\n",
       "      <td>0</td>\n",
       "      <td>3</td>\n",
       "      <td>0</td>\n",
       "      <td>0</td>\n",
       "      <td>1</td>\n",
       "      <td>0.9</td>\n",
       "      <td>0.4</td>\n",
       "      <td>0.979477</td>\n",
       "      <td>7</td>\n",
       "      <td>1</td>\n",
       "      <td>-1</td>\n",
       "      <td>0</td>\n",
       "      <td>-1</td>\n",
       "      <td>1</td>\n",
       "      <td>1</td>\n",
       "      <td>1</td>\n",
       "      <td>2</td>\n",
       "      <td>1</td>\n",
       "      <td>80</td>\n",
       "      <td>3</td>\n",
       "      <td>0.316228</td>\n",
       "      <td>0.708799</td>\n",
       "      <td>-1.000000</td>\n",
       "      <td>3.464102</td>\n",
       "      <td>0.8</td>\n",
       "      <td>0.8</td>\n",
       "      <td>0.9</td>\n",
       "      <td>2</td>\n",
       "      <td>2</td>\n",
       "      <td>7</td>\n",
       "      <td>4</td>\n",
       "      <td>11</td>\n",
       "      <td>4</td>\n",
       "      <td>16</td>\n",
       "      <td>5</td>\n",
       "      <td>1</td>\n",
       "      <td>6</td>\n",
       "      <td>7</td>\n",
       "      <td>0</td>\n",
       "      <td>1</td>\n",
       "      <td>0</td>\n",
       "      <td>0</td>\n",
       "      <td>1</td>\n",
       "      <td>1</td>\n",
       "    </tr>\n",
       "    <tr>\n",
       "      <th>2</th>\n",
       "      <td>400002</td>\n",
       "      <td>1</td>\n",
       "      <td>2</td>\n",
       "      <td>1</td>\n",
       "      <td>5</td>\n",
       "      <td>0</td>\n",
       "      <td>3</td>\n",
       "      <td>1</td>\n",
       "      <td>0</td>\n",
       "      <td>0</td>\n",
       "      <td>0</td>\n",
       "      <td>0</td>\n",
       "      <td>0</td>\n",
       "      <td>0</td>\n",
       "      <td>0</td>\n",
       "      <td>0</td>\n",
       "      <td>4</td>\n",
       "      <td>0</td>\n",
       "      <td>1</td>\n",
       "      <td>0</td>\n",
       "      <td>0.9</td>\n",
       "      <td>0.7</td>\n",
       "      <td>1.196349</td>\n",
       "      <td>11</td>\n",
       "      <td>1</td>\n",
       "      <td>0</td>\n",
       "      <td>0</td>\n",
       "      <td>1</td>\n",
       "      <td>0</td>\n",
       "      <td>1</td>\n",
       "      <td>1</td>\n",
       "      <td>1</td>\n",
       "      <td>1</td>\n",
       "      <td>104</td>\n",
       "      <td>3</td>\n",
       "      <td>0.399500</td>\n",
       "      <td>0.708056</td>\n",
       "      <td>0.326956</td>\n",
       "      <td>2.449490</td>\n",
       "      <td>0.1</td>\n",
       "      <td>0.9</td>\n",
       "      <td>0.7</td>\n",
       "      <td>2</td>\n",
       "      <td>3</td>\n",
       "      <td>9</td>\n",
       "      <td>5</td>\n",
       "      <td>11</td>\n",
       "      <td>1</td>\n",
       "      <td>6</td>\n",
       "      <td>6</td>\n",
       "      <td>4</td>\n",
       "      <td>2</td>\n",
       "      <td>9</td>\n",
       "      <td>0</td>\n",
       "      <td>1</td>\n",
       "      <td>1</td>\n",
       "      <td>1</td>\n",
       "      <td>1</td>\n",
       "      <td>0</td>\n",
       "    </tr>\n",
       "    <tr>\n",
       "      <th>3</th>\n",
       "      <td>400003</td>\n",
       "      <td>0</td>\n",
       "      <td>0</td>\n",
       "      <td>1</td>\n",
       "      <td>8</td>\n",
       "      <td>0</td>\n",
       "      <td>0</td>\n",
       "      <td>1</td>\n",
       "      <td>0</td>\n",
       "      <td>0</td>\n",
       "      <td>0</td>\n",
       "      <td>0</td>\n",
       "      <td>0</td>\n",
       "      <td>0</td>\n",
       "      <td>0</td>\n",
       "      <td>0</td>\n",
       "      <td>0</td>\n",
       "      <td>0</td>\n",
       "      <td>0</td>\n",
       "      <td>1</td>\n",
       "      <td>0.9</td>\n",
       "      <td>0.2</td>\n",
       "      <td>0.604669</td>\n",
       "      <td>5</td>\n",
       "      <td>1</td>\n",
       "      <td>0</td>\n",
       "      <td>2</td>\n",
       "      <td>0</td>\n",
       "      <td>0</td>\n",
       "      <td>0</td>\n",
       "      <td>1</td>\n",
       "      <td>0</td>\n",
       "      <td>1</td>\n",
       "      <td>104</td>\n",
       "      <td>2</td>\n",
       "      <td>0.374166</td>\n",
       "      <td>0.684872</td>\n",
       "      <td>0.360139</td>\n",
       "      <td>2.645751</td>\n",
       "      <td>0.9</td>\n",
       "      <td>0.9</td>\n",
       "      <td>0.6</td>\n",
       "      <td>3</td>\n",
       "      <td>0</td>\n",
       "      <td>8</td>\n",
       "      <td>4</td>\n",
       "      <td>11</td>\n",
       "      <td>3</td>\n",
       "      <td>6</td>\n",
       "      <td>5</td>\n",
       "      <td>2</td>\n",
       "      <td>3</td>\n",
       "      <td>2</td>\n",
       "      <td>0</td>\n",
       "      <td>1</td>\n",
       "      <td>1</td>\n",
       "      <td>0</td>\n",
       "      <td>0</td>\n",
       "      <td>0</td>\n",
       "    </tr>\n",
       "    <tr>\n",
       "      <th>4</th>\n",
       "      <td>400004</td>\n",
       "      <td>0</td>\n",
       "      <td>0</td>\n",
       "      <td>1</td>\n",
       "      <td>2</td>\n",
       "      <td>0</td>\n",
       "      <td>0</td>\n",
       "      <td>0</td>\n",
       "      <td>1</td>\n",
       "      <td>0</td>\n",
       "      <td>0</td>\n",
       "      <td>0</td>\n",
       "      <td>0</td>\n",
       "      <td>0</td>\n",
       "      <td>0</td>\n",
       "      <td>0</td>\n",
       "      <td>4</td>\n",
       "      <td>0</td>\n",
       "      <td>0</td>\n",
       "      <td>1</td>\n",
       "      <td>0.8</td>\n",
       "      <td>0.8</td>\n",
       "      <td>1.212693</td>\n",
       "      <td>11</td>\n",
       "      <td>1</td>\n",
       "      <td>-1</td>\n",
       "      <td>0</td>\n",
       "      <td>-1</td>\n",
       "      <td>6</td>\n",
       "      <td>1</td>\n",
       "      <td>0</td>\n",
       "      <td>0</td>\n",
       "      <td>1</td>\n",
       "      <td>33</td>\n",
       "      <td>3</td>\n",
       "      <td>0.400000</td>\n",
       "      <td>1.033529</td>\n",
       "      <td>-1.000000</td>\n",
       "      <td>3.741657</td>\n",
       "      <td>0.2</td>\n",
       "      <td>0.8</td>\n",
       "      <td>0.9</td>\n",
       "      <td>2</td>\n",
       "      <td>2</td>\n",
       "      <td>8</td>\n",
       "      <td>0</td>\n",
       "      <td>9</td>\n",
       "      <td>4</td>\n",
       "      <td>4</td>\n",
       "      <td>9</td>\n",
       "      <td>0</td>\n",
       "      <td>6</td>\n",
       "      <td>4</td>\n",
       "      <td>0</td>\n",
       "      <td>0</td>\n",
       "      <td>1</td>\n",
       "      <td>0</td>\n",
       "      <td>0</td>\n",
       "      <td>0</td>\n",
       "    </tr>\n",
       "  </tbody>\n",
       "</table>\n",
       "</div>"
      ],
      "text/plain": [
       "       id  target  ps_ind_01  ps_ind_02_cat  ps_ind_03  ps_ind_04_cat  \\\n",
       "0  400000       0          2              2          2              1   \n",
       "1  400001       0          0              2          1              0   \n",
       "2  400002       1          2              1          5              0   \n",
       "3  400003       0          0              1          8              0   \n",
       "4  400004       0          0              1          2              0   \n",
       "\n",
       "   ps_ind_05_cat  ps_ind_06_bin  ps_ind_07_bin  ps_ind_08_bin  ps_ind_09_bin  \\\n",
       "0              0              0              0              0              1   \n",
       "1              0              1              0              0              0   \n",
       "2              3              1              0              0              0   \n",
       "3              0              1              0              0              0   \n",
       "4              0              0              1              0              0   \n",
       "\n",
       "   ps_ind_10_bin  ps_ind_11_bin  ps_ind_12_bin  ps_ind_13_bin  ps_ind_14  \\\n",
       "0              0              0              0              0          0   \n",
       "1              0              0              0              0          0   \n",
       "2              0              0              0              0          0   \n",
       "3              0              0              0              0          0   \n",
       "4              0              0              0              0          0   \n",
       "\n",
       "   ps_ind_15  ps_ind_16_bin  ps_ind_17_bin  ps_ind_18_bin  ps_reg_01  \\\n",
       "0         10              0              1              0        0.9   \n",
       "1          3              0              0              1        0.9   \n",
       "2          4              0              1              0        0.9   \n",
       "3          0              0              0              1        0.9   \n",
       "4          4              0              0              1        0.8   \n",
       "\n",
       "   ps_reg_02  ps_reg_03  ps_car_01_cat  ps_car_02_cat  ps_car_03_cat  \\\n",
       "0        0.2   0.583631             10              1             -1   \n",
       "1        0.4   0.979477              7              1             -1   \n",
       "2        0.7   1.196349             11              1              0   \n",
       "3        0.2   0.604669              5              1              0   \n",
       "4        0.8   1.212693             11              1             -1   \n",
       "\n",
       "   ps_car_04_cat  ps_car_05_cat  ps_car_06_cat  ps_car_07_cat  ps_car_08_cat  \\\n",
       "0              0              1             14              1              1   \n",
       "1              0             -1              1              1              1   \n",
       "2              0              1              0              1              1   \n",
       "3              2              0              0              0              1   \n",
       "4              0             -1              6              1              0   \n",
       "\n",
       "   ps_car_09_cat  ps_car_10_cat  ps_car_11_cat  ps_car_11  ps_car_12  \\\n",
       "0              0              1             82          3   0.316228   \n",
       "1              2              1             80          3   0.316228   \n",
       "2              1              1            104          3   0.399500   \n",
       "3              0              1            104          2   0.374166   \n",
       "4              0              1             33          3   0.400000   \n",
       "\n",
       "   ps_car_13  ps_car_14  ps_car_15  ps_calc_01  ps_calc_02  ps_calc_03  \\\n",
       "0   0.613198   0.368511   2.645751         0.6         0.7         0.5   \n",
       "1   0.708799  -1.000000   3.464102         0.8         0.8         0.9   \n",
       "2   0.708056   0.326956   2.449490         0.1         0.9         0.7   \n",
       "3   0.684872   0.360139   2.645751         0.9         0.9         0.6   \n",
       "4   1.033529  -1.000000   3.741657         0.2         0.8         0.9   \n",
       "\n",
       "   ps_calc_04  ps_calc_05  ps_calc_06  ps_calc_07  ps_calc_08  ps_calc_09  \\\n",
       "0           2           1           8           3          11           1   \n",
       "1           2           2           7           4          11           4   \n",
       "2           2           3           9           5          11           1   \n",
       "3           3           0           8           4          11           3   \n",
       "4           2           2           8           0           9           4   \n",
       "\n",
       "   ps_calc_10  ps_calc_11  ps_calc_12  ps_calc_13  ps_calc_14  ps_calc_15_bin  \\\n",
       "0          11           6           1           3           6               0   \n",
       "1          16           5           1           6           7               0   \n",
       "2           6           6           4           2           9               0   \n",
       "3           6           5           2           3           2               0   \n",
       "4           4           9           0           6           4               0   \n",
       "\n",
       "   ps_calc_16_bin  ps_calc_17_bin  ps_calc_18_bin  ps_calc_19_bin  \\\n",
       "0               1               0               0               1   \n",
       "1               1               0               0               1   \n",
       "2               1               1               1               1   \n",
       "3               1               1               0               0   \n",
       "4               0               1               0               0   \n",
       "\n",
       "   ps_calc_20_bin  \n",
       "0               0  \n",
       "1               1  \n",
       "2               0  \n",
       "3               0  \n",
       "4               0  "
      ]
     },
     "execution_count": 4,
     "metadata": {},
     "output_type": "execute_result"
    }
   ],
   "source": [
    "data_raw.head()"
   ]
  },
  {
   "cell_type": "code",
   "execution_count": 5,
   "metadata": {},
   "outputs": [
    {
     "name": "stdout",
     "output_type": "stream",
     "text": [
      "<class 'pandas.core.frame.DataFrame'>\n",
      "RangeIndex: 195212 entries, 0 to 195211\n",
      "Data columns (total 59 columns):\n",
      "id                195212 non-null int64\n",
      "target            195212 non-null int64\n",
      "ps_ind_01         195212 non-null int64\n",
      "ps_ind_02_cat     195212 non-null int64\n",
      "ps_ind_03         195212 non-null int64\n",
      "ps_ind_04_cat     195212 non-null int64\n",
      "ps_ind_05_cat     195212 non-null int64\n",
      "ps_ind_06_bin     195212 non-null int64\n",
      "ps_ind_07_bin     195212 non-null int64\n",
      "ps_ind_08_bin     195212 non-null int64\n",
      "ps_ind_09_bin     195212 non-null int64\n",
      "ps_ind_10_bin     195212 non-null int64\n",
      "ps_ind_11_bin     195212 non-null int64\n",
      "ps_ind_12_bin     195212 non-null int64\n",
      "ps_ind_13_bin     195212 non-null int64\n",
      "ps_ind_14         195212 non-null int64\n",
      "ps_ind_15         195212 non-null int64\n",
      "ps_ind_16_bin     195212 non-null int64\n",
      "ps_ind_17_bin     195212 non-null int64\n",
      "ps_ind_18_bin     195212 non-null int64\n",
      "ps_reg_01         195212 non-null float64\n",
      "ps_reg_02         195212 non-null float64\n",
      "ps_reg_03         195212 non-null float64\n",
      "ps_car_01_cat     195212 non-null int64\n",
      "ps_car_02_cat     195212 non-null int64\n",
      "ps_car_03_cat     195212 non-null int64\n",
      "ps_car_04_cat     195212 non-null int64\n",
      "ps_car_05_cat     195212 non-null int64\n",
      "ps_car_06_cat     195212 non-null int64\n",
      "ps_car_07_cat     195212 non-null int64\n",
      "ps_car_08_cat     195212 non-null int64\n",
      "ps_car_09_cat     195212 non-null int64\n",
      "ps_car_10_cat     195212 non-null int64\n",
      "ps_car_11_cat     195212 non-null int64\n",
      "ps_car_11         195212 non-null int64\n",
      "ps_car_12         195212 non-null float64\n",
      "ps_car_13         195212 non-null float64\n",
      "ps_car_14         195212 non-null float64\n",
      "ps_car_15         195212 non-null float64\n",
      "ps_calc_01        195212 non-null float64\n",
      "ps_calc_02        195212 non-null float64\n",
      "ps_calc_03        195212 non-null float64\n",
      "ps_calc_04        195212 non-null int64\n",
      "ps_calc_05        195212 non-null int64\n",
      "ps_calc_06        195212 non-null int64\n",
      "ps_calc_07        195212 non-null int64\n",
      "ps_calc_08        195212 non-null int64\n",
      "ps_calc_09        195212 non-null int64\n",
      "ps_calc_10        195212 non-null int64\n",
      "ps_calc_11        195212 non-null int64\n",
      "ps_calc_12        195212 non-null int64\n",
      "ps_calc_13        195212 non-null int64\n",
      "ps_calc_14        195212 non-null int64\n",
      "ps_calc_15_bin    195212 non-null int64\n",
      "ps_calc_16_bin    195212 non-null int64\n",
      "ps_calc_17_bin    195212 non-null int64\n",
      "ps_calc_18_bin    195212 non-null int64\n",
      "ps_calc_19_bin    195212 non-null int64\n",
      "ps_calc_20_bin    195212 non-null int64\n",
      "dtypes: float64(10), int64(49)\n",
      "memory usage: 87.9 MB\n"
     ]
    }
   ],
   "source": [
    "data_raw.info()"
   ]
  },
  {
   "cell_type": "code",
   "execution_count": 6,
   "metadata": {},
   "outputs": [
    {
     "data": {
      "text/plain": [
       "0    0.963481\n",
       "1    0.036519\n",
       "Name: target, dtype: float64"
      ]
     },
     "execution_count": 6,
     "metadata": {},
     "output_type": "execute_result"
    }
   ],
   "source": [
    "data_raw['target'].value_counts(normalize=True)"
   ]
  },
  {
   "cell_type": "code",
   "execution_count": 7,
   "metadata": {},
   "outputs": [],
   "source": [
    "data_raw = data_raw.replace(-1, np.nan)"
   ]
  },
  {
   "cell_type": "code",
   "execution_count": 8,
   "metadata": {},
   "outputs": [
    {
     "name": "stdout",
     "output_type": "stream",
     "text": [
      "<class 'pandas.core.frame.DataFrame'>\n",
      "RangeIndex: 195212 entries, 0 to 195211\n",
      "Data columns (total 59 columns):\n",
      "id                195212 non-null int64\n",
      "target            195212 non-null int64\n",
      "ps_ind_01         195212 non-null int64\n",
      "ps_ind_02_cat     195126 non-null float64\n",
      "ps_ind_03         195212 non-null int64\n",
      "ps_ind_04_cat     195183 non-null float64\n",
      "ps_ind_05_cat     193312 non-null float64\n",
      "ps_ind_06_bin     195212 non-null int64\n",
      "ps_ind_07_bin     195212 non-null int64\n",
      "ps_ind_08_bin     195212 non-null int64\n",
      "ps_ind_09_bin     195212 non-null int64\n",
      "ps_ind_10_bin     195212 non-null int64\n",
      "ps_ind_11_bin     195212 non-null int64\n",
      "ps_ind_12_bin     195212 non-null int64\n",
      "ps_ind_13_bin     195212 non-null int64\n",
      "ps_ind_14         195212 non-null int64\n",
      "ps_ind_15         195212 non-null int64\n",
      "ps_ind_16_bin     195212 non-null int64\n",
      "ps_ind_17_bin     195212 non-null int64\n",
      "ps_ind_18_bin     195212 non-null int64\n",
      "ps_reg_01         195212 non-null float64\n",
      "ps_reg_02         195212 non-null float64\n",
      "ps_reg_03         159969 non-null float64\n",
      "ps_car_01_cat     195176 non-null float64\n",
      "ps_car_02_cat     195209 non-null float64\n",
      "ps_car_03_cat     60307 non-null float64\n",
      "ps_car_04_cat     195212 non-null int64\n",
      "ps_car_05_cat     107776 non-null float64\n",
      "ps_car_06_cat     195212 non-null int64\n",
      "ps_car_07_cat     191360 non-null float64\n",
      "ps_car_08_cat     195212 non-null int64\n",
      "ps_car_09_cat     195019 non-null float64\n",
      "ps_car_10_cat     195212 non-null int64\n",
      "ps_car_11_cat     195212 non-null int64\n",
      "ps_car_11         195210 non-null float64\n",
      "ps_car_12         195212 non-null float64\n",
      "ps_car_13         195212 non-null float64\n",
      "ps_car_14         181146 non-null float64\n",
      "ps_car_15         195212 non-null float64\n",
      "ps_calc_01        195212 non-null float64\n",
      "ps_calc_02        195212 non-null float64\n",
      "ps_calc_03        195212 non-null float64\n",
      "ps_calc_04        195212 non-null int64\n",
      "ps_calc_05        195212 non-null int64\n",
      "ps_calc_06        195212 non-null int64\n",
      "ps_calc_07        195212 non-null int64\n",
      "ps_calc_08        195212 non-null int64\n",
      "ps_calc_09        195212 non-null int64\n",
      "ps_calc_10        195212 non-null int64\n",
      "ps_calc_11        195212 non-null int64\n",
      "ps_calc_12        195212 non-null int64\n",
      "ps_calc_13        195212 non-null int64\n",
      "ps_calc_14        195212 non-null int64\n",
      "ps_calc_15_bin    195212 non-null int64\n",
      "ps_calc_16_bin    195212 non-null int64\n",
      "ps_calc_17_bin    195212 non-null int64\n",
      "ps_calc_18_bin    195212 non-null int64\n",
      "ps_calc_19_bin    195212 non-null int64\n",
      "ps_calc_20_bin    195212 non-null int64\n",
      "dtypes: float64(20), int64(39)\n",
      "memory usage: 87.9 MB\n"
     ]
    }
   ],
   "source": [
    "data_raw.info()"
   ]
  },
  {
   "cell_type": "code",
   "execution_count": 9,
   "metadata": {},
   "outputs": [],
   "source": [
    "data_raw = data_raw.drop(['ps_car_03_cat','ps_car_05_cat'],axis=1)"
   ]
  },
  {
   "cell_type": "code",
   "execution_count": 10,
   "metadata": {},
   "outputs": [
    {
     "name": "stdout",
     "output_type": "stream",
     "text": [
      "<class 'pandas.core.frame.DataFrame'>\n",
      "Int64Index: 145419 entries, 0 to 195211\n",
      "Data columns (total 57 columns):\n",
      "id                145419 non-null int64\n",
      "target            145419 non-null int64\n",
      "ps_ind_01         145419 non-null int64\n",
      "ps_ind_02_cat     145419 non-null float64\n",
      "ps_ind_03         145419 non-null int64\n",
      "ps_ind_04_cat     145419 non-null float64\n",
      "ps_ind_05_cat     145419 non-null float64\n",
      "ps_ind_06_bin     145419 non-null int64\n",
      "ps_ind_07_bin     145419 non-null int64\n",
      "ps_ind_08_bin     145419 non-null int64\n",
      "ps_ind_09_bin     145419 non-null int64\n",
      "ps_ind_10_bin     145419 non-null int64\n",
      "ps_ind_11_bin     145419 non-null int64\n",
      "ps_ind_12_bin     145419 non-null int64\n",
      "ps_ind_13_bin     145419 non-null int64\n",
      "ps_ind_14         145419 non-null int64\n",
      "ps_ind_15         145419 non-null int64\n",
      "ps_ind_16_bin     145419 non-null int64\n",
      "ps_ind_17_bin     145419 non-null int64\n",
      "ps_ind_18_bin     145419 non-null int64\n",
      "ps_reg_01         145419 non-null float64\n",
      "ps_reg_02         145419 non-null float64\n",
      "ps_reg_03         145419 non-null float64\n",
      "ps_car_01_cat     145419 non-null float64\n",
      "ps_car_02_cat     145419 non-null float64\n",
      "ps_car_04_cat     145419 non-null int64\n",
      "ps_car_06_cat     145419 non-null int64\n",
      "ps_car_07_cat     145419 non-null float64\n",
      "ps_car_08_cat     145419 non-null int64\n",
      "ps_car_09_cat     145419 non-null float64\n",
      "ps_car_10_cat     145419 non-null int64\n",
      "ps_car_11_cat     145419 non-null int64\n",
      "ps_car_11         145419 non-null float64\n",
      "ps_car_12         145419 non-null float64\n",
      "ps_car_13         145419 non-null float64\n",
      "ps_car_14         145419 non-null float64\n",
      "ps_car_15         145419 non-null float64\n",
      "ps_calc_01        145419 non-null float64\n",
      "ps_calc_02        145419 non-null float64\n",
      "ps_calc_03        145419 non-null float64\n",
      "ps_calc_04        145419 non-null int64\n",
      "ps_calc_05        145419 non-null int64\n",
      "ps_calc_06        145419 non-null int64\n",
      "ps_calc_07        145419 non-null int64\n",
      "ps_calc_08        145419 non-null int64\n",
      "ps_calc_09        145419 non-null int64\n",
      "ps_calc_10        145419 non-null int64\n",
      "ps_calc_11        145419 non-null int64\n",
      "ps_calc_12        145419 non-null int64\n",
      "ps_calc_13        145419 non-null int64\n",
      "ps_calc_14        145419 non-null int64\n",
      "ps_calc_15_bin    145419 non-null int64\n",
      "ps_calc_16_bin    145419 non-null int64\n",
      "ps_calc_17_bin    145419 non-null int64\n",
      "ps_calc_18_bin    145419 non-null int64\n",
      "ps_calc_19_bin    145419 non-null int64\n",
      "ps_calc_20_bin    145419 non-null int64\n",
      "dtypes: float64(18), int64(39)\n",
      "memory usage: 64.3 MB\n"
     ]
    }
   ],
   "source": [
    "data_raw = data_raw.dropna()\n",
    "data_raw.info()"
   ]
  },
  {
   "cell_type": "code",
   "execution_count": 11,
   "metadata": {},
   "outputs": [],
   "source": [
    "#creating two labels in 'ps_ind_02_cat'\n",
    "bins = [1,2,5]\n",
    "label = [1,2]\n",
    "data_raw['ps_ind_02_cat'] = pd.cut(data_raw['ps_ind_02_cat'], bins=bins, labels=label,right=False,include_lowest=True)"
   ]
  },
  {
   "cell_type": "code",
   "execution_count": 12,
   "metadata": {},
   "outputs": [],
   "source": [
    "# creating two labels in 'ps_ind_05_cat'\n",
    "bins = [0,1,7]\n",
    "label = [0,1]\n",
    "data_raw['ps_ind_05_cat'] = pd.cut(data_raw['ps_ind_05_cat'], bins=bins, labels=label,right=False,include_lowest=True)"
   ]
  },
  {
   "cell_type": "code",
   "execution_count": 13,
   "metadata": {},
   "outputs": [],
   "source": [
    "# creating two labels in 'ps_car_01_cat'\n",
    "bins = [0,7,11]\n",
    "label = [0,1]\n",
    "data_raw['ps_car_01_cat'] = pd.cut(data_raw['ps_car_01_cat'], bins=bins, labels=label,right=True,include_lowest=True)"
   ]
  },
  {
   "cell_type": "code",
   "execution_count": 14,
   "metadata": {},
   "outputs": [],
   "source": [
    "# creating two labels in 'ps_car_04_cat'\n",
    "bins = [0,1,10]\n",
    "label = [0,1]\n",
    "data_raw['ps_car_04_cat'] = pd.cut(data_raw['ps_car_04_cat'], bins=bins, labels=label,right=False,include_lowest=True)"
   ]
  },
  {
   "cell_type": "code",
   "execution_count": 15,
   "metadata": {},
   "outputs": [],
   "source": [
    "# creating two labels in 'ps_car_06_cat'\n",
    "bins = [0,8,17]\n",
    "label = [0,1]\n",
    "data_raw['ps_car_06_cat'] = pd.cut(data_raw['ps_car_06_cat'], bins=bins, labels=label,right=True,include_lowest=True)"
   ]
  },
  {
   "cell_type": "code",
   "execution_count": 16,
   "metadata": {},
   "outputs": [],
   "source": [
    "# creating two labels in 'ps_car_09_cat'\n",
    "bins = [0,1,4]\n",
    "label = [0,1]\n",
    "data_raw['ps_car_09_cat'] = pd.cut(data_raw['ps_car_09_cat'], bins=bins, labels=label,right=True,include_lowest=True)"
   ]
  },
  {
   "cell_type": "code",
   "execution_count": 17,
   "metadata": {},
   "outputs": [],
   "source": [
    "# creating two labels in 'ps_car_10_cat'\n",
    "bins = [0,1,3]\n",
    "label = [0,1]\n",
    "data_raw['ps_car_10_cat'] = pd.cut(data_raw['ps_car_10_cat'], bins=bins, labels=label,right=False,include_lowest=True)"
   ]
  },
  {
   "cell_type": "code",
   "execution_count": 18,
   "metadata": {},
   "outputs": [],
   "source": [
    "# creating two labels in 'ps_car_11_cat'\n",
    "bins = [0,62,104]\n",
    "label = [0,1]\n",
    "data_raw['ps_car_11_cat'] = pd.cut(data_raw['ps_car_11_cat'], bins=bins, labels=label,right=True,include_lowest=True)"
   ]
  },
  {
   "cell_type": "code",
   "execution_count": 19,
   "metadata": {},
   "outputs": [],
   "source": [
    "# creating 2 levels in 'ps_ind_01' is an ordinal feature\n",
    "bins = [0,1,7]\n",
    "label = [0,1]\n",
    "data_raw['ps_ind_01'] = pd.cut(data_raw['ps_ind_01'], bins=bins, labels=label,right=True,include_lowest=True)"
   ]
  },
  {
   "cell_type": "code",
   "execution_count": 20,
   "metadata": {},
   "outputs": [],
   "source": [
    "# create two levels\n",
    "bins = [0,4,11]\n",
    "label = [0,1]\n",
    "data_raw['ps_ind_03'] = pd.cut(data_raw['ps_ind_03'], bins=bins, labels=label,right=True,include_lowest=True)"
   ]
  },
  {
   "cell_type": "code",
   "execution_count": 21,
   "metadata": {},
   "outputs": [],
   "source": [
    "# We group the 'ps_ind_14' feature in to two levels\n",
    "bins = [0,1,5]\n",
    "label = [0,1]\n",
    "data_raw['ps_ind_14'] = pd.cut(data_raw['ps_ind_14'], bins=bins, labels=label,right=False,include_lowest=True)"
   ]
  },
  {
   "cell_type": "code",
   "execution_count": 22,
   "metadata": {},
   "outputs": [],
   "source": [
    "# create two level in ps_ind_15\n",
    "bins = [0,7,13]\n",
    "label = [0,1]\n",
    "data_raw['ps_ind_15'] = pd.cut(data_raw['ps_ind_15'], bins=bins, labels=label,right=True,include_lowest=True)"
   ]
  },
  {
   "cell_type": "code",
   "execution_count": 23,
   "metadata": {},
   "outputs": [],
   "source": [
    "# Create 3 levels in 'ps_reg_02'\n",
    "bins = [0,0.3,1.3,1.8]\n",
    "labels = [0,1,2]\n",
    "data_raw['ps_reg_02'] = pd.cut(data_raw['ps_reg_02'], bins=bins,labels=labels, right=True,include_lowest=True)"
   ]
  },
  {
   "cell_type": "code",
   "execution_count": 24,
   "metadata": {},
   "outputs": [],
   "source": [
    "#  We combine level 0 and 1.\n",
    "bins=[0,1,2,3]\n",
    "labels=[0,1,2]\n",
    "data_raw['ps_car_11'] = pd.cut(data_raw['ps_car_11'], bins=bins,labels=labels,right=True,include_lowest=True)"
   ]
  },
  {
   "cell_type": "code",
   "execution_count": 25,
   "metadata": {},
   "outputs": [],
   "source": [
    "# Create 3 labels for feature ps_calc_04\n",
    "bins=[0,1,3,5]\n",
    "labels=[0,1,2]\n",
    "data_raw['ps_calc_04'] = pd.cut(data_raw['ps_calc_04'], bins=bins,labels=labels,include_lowest=True)"
   ]
  },
  {
   "cell_type": "code",
   "execution_count": 26,
   "metadata": {},
   "outputs": [],
   "source": [
    "# Create 3 labels for feature ps_calc_05\n",
    "bins=[0,1,4,7]\n",
    "labels=[0,1,2]\n",
    "data_raw['ps_calc_05'] = pd.cut(data_raw['ps_calc_05'], bins=bins,labels=labels,right=False,include_lowest=True)"
   ]
  },
  {
   "cell_type": "code",
   "execution_count": 27,
   "metadata": {},
   "outputs": [],
   "source": [
    "# Create 2 labels for feature ps_calc_06\n",
    "bins=[1,6,10]\n",
    "labels=[0,1]\n",
    "data_raw['ps_calc_06'] = pd.cut(data_raw['ps_calc_06'], bins=bins,labels=labels,right=True,include_lowest=True)"
   ]
  },
  {
   "cell_type": "code",
   "execution_count": 28,
   "metadata": {},
   "outputs": [],
   "source": [
    "# Create 3 labels for feature ps_calc_07\n",
    "bins=[0,1,4,9]\n",
    "labels=[0,1,2]\n",
    "data_raw['ps_calc_07'] = pd.cut(data_raw['ps_calc_07'], bins=bins,labels=labels,right=True,include_lowest=True)"
   ]
  },
  {
   "cell_type": "code",
   "execution_count": 29,
   "metadata": {},
   "outputs": [],
   "source": [
    "# Create 3 labels for feature ps_calc_08\n",
    "bins=[2,7,10,12]\n",
    "labels=[0,1,2]\n",
    "data_raw['ps_calc_08'] = pd.cut(data_raw['ps_calc_08'], bins=bins,labels=labels,right=True,include_lowest=True)"
   ]
  },
  {
   "cell_type": "code",
   "execution_count": 30,
   "metadata": {},
   "outputs": [],
   "source": [
    "# Create 2 labels for feature ps_calc_09\n",
    "bins=[0,3,7]\n",
    "labels=[0,1]\n",
    "data_raw['ps_calc_09'] = pd.cut(data_raw['ps_calc_09'], bins=bins,labels=labels,right=True,include_lowest=True)"
   ]
  },
  {
   "cell_type": "code",
   "execution_count": 31,
   "metadata": {},
   "outputs": [],
   "source": [
    "# Create 2 labels for feature ps_calc_12\n",
    "bins=[0,2,10]\n",
    "labels=[0,1]\n",
    "data_raw['ps_calc_12'] = pd.cut(data_raw['ps_calc_12'], bins=bins,labels=labels,right=True,include_lowest=True)"
   ]
  },
  {
   "cell_type": "code",
   "execution_count": 32,
   "metadata": {},
   "outputs": [],
   "source": [
    "# Create 2 labels for feature ps_calc_13\n",
    "bins=[0,4,13]\n",
    "labels=[0,1]\n",
    "data_raw['ps_calc_13'] = pd.cut(data_raw['ps_calc_13'], bins=bins,labels=labels,right=True,include_lowest=True)"
   ]
  },
  {
   "cell_type": "code",
   "execution_count": 33,
   "metadata": {
    "scrolled": true
   },
   "outputs": [
    {
     "data": {
      "text/plain": [
       "id                0\n",
       "target            0\n",
       "ps_ind_01         0\n",
       "ps_ind_02_cat     0\n",
       "ps_ind_03         0\n",
       "ps_ind_04_cat     0\n",
       "ps_ind_05_cat     0\n",
       "ps_ind_06_bin     0\n",
       "ps_ind_07_bin     0\n",
       "ps_ind_08_bin     0\n",
       "ps_ind_09_bin     0\n",
       "ps_ind_10_bin     0\n",
       "ps_ind_11_bin     0\n",
       "ps_ind_12_bin     0\n",
       "ps_ind_13_bin     0\n",
       "ps_ind_14         0\n",
       "ps_ind_15         0\n",
       "ps_ind_16_bin     0\n",
       "ps_ind_17_bin     0\n",
       "ps_ind_18_bin     0\n",
       "ps_reg_01         0\n",
       "ps_reg_02         0\n",
       "ps_reg_03         0\n",
       "ps_car_01_cat     0\n",
       "ps_car_02_cat     0\n",
       "ps_car_04_cat     0\n",
       "ps_car_06_cat     0\n",
       "ps_car_07_cat     0\n",
       "ps_car_08_cat     0\n",
       "ps_car_09_cat     0\n",
       "ps_car_10_cat     0\n",
       "ps_car_11_cat     0\n",
       "ps_car_11         0\n",
       "ps_car_12         0\n",
       "ps_car_13         0\n",
       "ps_car_14         0\n",
       "ps_car_15         0\n",
       "ps_calc_01        0\n",
       "ps_calc_02        0\n",
       "ps_calc_03        0\n",
       "ps_calc_04        0\n",
       "ps_calc_05        0\n",
       "ps_calc_06        1\n",
       "ps_calc_07        0\n",
       "ps_calc_08        0\n",
       "ps_calc_09        0\n",
       "ps_calc_10        0\n",
       "ps_calc_11        0\n",
       "ps_calc_12        0\n",
       "ps_calc_13        0\n",
       "ps_calc_14        0\n",
       "ps_calc_15_bin    0\n",
       "ps_calc_16_bin    0\n",
       "ps_calc_17_bin    0\n",
       "ps_calc_18_bin    0\n",
       "ps_calc_19_bin    0\n",
       "ps_calc_20_bin    0\n",
       "dtype: int64"
      ]
     },
     "execution_count": 33,
     "metadata": {},
     "output_type": "execute_result"
    }
   ],
   "source": [
    "data_raw.isnull().sum()"
   ]
  },
  {
   "cell_type": "code",
   "execution_count": 34,
   "metadata": {},
   "outputs": [
    {
     "data": {
      "text/plain": [
       "(145419, 57)"
      ]
     },
     "execution_count": 34,
     "metadata": {},
     "output_type": "execute_result"
    }
   ],
   "source": [
    "data_raw.shape"
   ]
  },
  {
   "cell_type": "code",
   "execution_count": 35,
   "metadata": {},
   "outputs": [
    {
     "data": {
      "text/plain": [
       "0    0.962962\n",
       "1    0.037038\n",
       "Name: target, dtype: float64"
      ]
     },
     "execution_count": 35,
     "metadata": {},
     "output_type": "execute_result"
    }
   ],
   "source": [
    "data_raw['target'].value_counts(normalize=True)"
   ]
  },
  {
   "cell_type": "code",
   "execution_count": 36,
   "metadata": {},
   "outputs": [
    {
     "data": {
      "text/plain": [
       "Index(['id', 'target', 'ps_ind_01', 'ps_ind_02_cat', 'ps_ind_03',\n",
       "       'ps_ind_04_cat', 'ps_ind_05_cat', 'ps_ind_06_bin', 'ps_ind_07_bin',\n",
       "       'ps_ind_08_bin', 'ps_ind_09_bin', 'ps_ind_10_bin', 'ps_ind_11_bin',\n",
       "       'ps_ind_12_bin', 'ps_ind_13_bin', 'ps_ind_14', 'ps_ind_15',\n",
       "       'ps_ind_16_bin', 'ps_ind_17_bin', 'ps_ind_18_bin', 'ps_reg_01',\n",
       "       'ps_reg_02', 'ps_reg_03', 'ps_car_01_cat', 'ps_car_02_cat',\n",
       "       'ps_car_04_cat', 'ps_car_06_cat', 'ps_car_07_cat', 'ps_car_08_cat',\n",
       "       'ps_car_09_cat', 'ps_car_10_cat', 'ps_car_11_cat', 'ps_car_11',\n",
       "       'ps_car_12', 'ps_car_13', 'ps_car_14', 'ps_car_15', 'ps_calc_01',\n",
       "       'ps_calc_02', 'ps_calc_03', 'ps_calc_04', 'ps_calc_05', 'ps_calc_06',\n",
       "       'ps_calc_07', 'ps_calc_08', 'ps_calc_09', 'ps_calc_10', 'ps_calc_11',\n",
       "       'ps_calc_12', 'ps_calc_13', 'ps_calc_14', 'ps_calc_15_bin',\n",
       "       'ps_calc_16_bin', 'ps_calc_17_bin', 'ps_calc_18_bin', 'ps_calc_19_bin',\n",
       "       'ps_calc_20_bin'],\n",
       "      dtype='object')"
      ]
     },
     "execution_count": 36,
     "metadata": {},
     "output_type": "execute_result"
    }
   ],
   "source": [
    "data_raw.columns"
   ]
  },
  {
   "cell_type": "code",
   "execution_count": 55,
   "metadata": {
    "scrolled": true
   },
   "outputs": [
    {
     "name": "stdout",
     "output_type": "stream",
     "text": [
      "0.0    83494\n",
      "1.0    61925\n",
      "Name: ps_ind_04_cat, dtype: int64\n",
      "0    87614\n",
      "1    57805\n",
      "Name: ps_ind_06_bin, dtype: int64\n",
      "0    111061\n",
      "1     34358\n",
      "Name: ps_ind_07_bin, dtype: int64\n",
      "0    122412\n",
      "1     23007\n",
      "Name: ps_ind_08_bin, dtype: int64\n",
      "0    115170\n",
      "1     30249\n",
      "Name: ps_ind_09_bin, dtype: int64\n",
      "0    145378\n",
      "1        41\n",
      "Name: ps_ind_10_bin, dtype: int64\n",
      "0    145197\n",
      "1       222\n",
      "Name: ps_ind_11_bin, dtype: int64\n",
      "0    144172\n",
      "1      1247\n",
      "Name: ps_ind_12_bin, dtype: int64\n",
      "0    145309\n",
      "1       110\n",
      "Name: ps_ind_13_bin, dtype: int64\n",
      "1    95186\n",
      "0    50233\n",
      "Name: ps_ind_16_bin, dtype: int64\n",
      "0    126516\n",
      "1     18903\n",
      "Name: ps_ind_17_bin, dtype: int64\n",
      "0    123329\n",
      "1     22090\n",
      "Name: ps_ind_18_bin, dtype: int64\n",
      "1.0    120201\n",
      "0.0     25218\n",
      "Name: ps_car_02_cat, dtype: int64\n",
      "1.0    137335\n",
      "0.0      8084\n",
      "Name: ps_car_07_cat, dtype: int64\n",
      "1    123864\n",
      "0     21555\n",
      "Name: ps_car_08_cat, dtype: int64\n",
      "1    144140\n",
      "0      1279\n",
      "Name: ps_car_10_cat, dtype: int64\n",
      "1    78822\n",
      "0    66597\n",
      "Name: ps_car_11_cat, dtype: int64\n",
      "0    127654\n",
      "1     17765\n",
      "Name: ps_calc_15_bin, dtype: int64\n",
      "1    91156\n",
      "0    54263\n",
      "Name: ps_calc_16_bin, dtype: int64\n",
      "1    80460\n",
      "0    64959\n",
      "Name: ps_calc_17_bin, dtype: int64\n",
      "0    103795\n",
      "1     41624\n",
      "Name: ps_calc_18_bin, dtype: int64\n",
      "0    94454\n",
      "1    50965\n",
      "Name: ps_calc_19_bin, dtype: int64\n",
      "0    123346\n",
      "1     22073\n",
      "Name: ps_calc_20_bin, dtype: int64\n",
      "1    99258\n",
      "2    28527\n",
      "0    17634\n",
      "Name: ps_calc_08, dtype: int64\n"
     ]
    }
   ],
   "source": [
    "for i in ('ps_ind_04_cat', 'ps_ind_06_bin', 'ps_ind_07_bin', 'ps_ind_08_bin', 'ps_ind_09_bin', 'ps_ind_10_bin', 'ps_ind_11_bin',  'ps_ind_12_bin', 'ps_ind_13_bin',   'ps_ind_16_bin', 'ps_ind_17_bin', 'ps_ind_18_bin',  'ps_car_02_cat','ps_car_07_cat', 'ps_car_08_cat', 'ps_car_10_cat', 'ps_car_11_cat',  'ps_calc_15_bin', 'ps_calc_16_bin', 'ps_calc_17_bin', 'ps_calc_18_bin', 'ps_calc_19_bin', 'ps_calc_20_bin','ps_calc_08'):\n",
    "    print(data_raw[i].value_counts())"
   ]
  },
  {
   "cell_type": "code",
   "execution_count": 47,
   "metadata": {},
   "outputs": [],
   "source": [
    "pd.set_option('max_rows', 2000)"
   ]
  },
  {
   "cell_type": "code",
   "execution_count": 59,
   "metadata": {
    "scrolled": true
   },
   "outputs": [
    {
     "data": {
      "text/plain": [
       "target           0\n",
       "ps_ind_10_bin    0\n",
       "dtype: int64"
      ]
     },
     "execution_count": 59,
     "metadata": {},
     "output_type": "execute_result"
    }
   ],
   "source": [
    "data_raw[['target','ps_ind_10_bin']].loc[data_raw['ps_ind_10_bin']==1].loc[data_raw['target']==1].count()"
   ]
  },
  {
   "cell_type": "code",
   "execution_count": 56,
   "metadata": {
    "scrolled": true
   },
   "outputs": [
    {
     "data": {
      "text/plain": [
       "target           9\n",
       "ps_ind_11_bin    9\n",
       "dtype: int64"
      ]
     },
     "execution_count": 56,
     "metadata": {},
     "output_type": "execute_result"
    }
   ],
   "source": [
    "data_raw[['target','ps_ind_11_bin']].loc[data_raw['ps_ind_11_bin']==1].loc[data_raw['target']==1].count()"
   ]
  },
  {
   "cell_type": "code",
   "execution_count": 54,
   "metadata": {
    "scrolled": true
   },
   "outputs": [
    {
     "data": {
      "text/plain": [
       "target           66\n",
       "ps_ind_12_bin    66\n",
       "dtype: int64"
      ]
     },
     "execution_count": 54,
     "metadata": {},
     "output_type": "execute_result"
    }
   ],
   "source": [
    "data_raw[['target','ps_ind_12_bin']].loc[data_raw['ps_ind_12_bin']==1].loc[data_raw['target']==1].count()"
   ]
  },
  {
   "cell_type": "code",
   "execution_count": 60,
   "metadata": {},
   "outputs": [
    {
     "data": {
      "text/plain": [
       "target           8\n",
       "ps_ind_13_bin    8\n",
       "dtype: int64"
      ]
     },
     "execution_count": 60,
     "metadata": {},
     "output_type": "execute_result"
    }
   ],
   "source": [
    "data_raw[['target','ps_ind_13_bin']].loc[data_raw['ps_ind_13_bin']==1].loc[data_raw['target']==1].count()"
   ]
  },
  {
   "cell_type": "code",
   "execution_count": 63,
   "metadata": {},
   "outputs": [
    {
     "data": {
      "text/plain": [
       "target           45\n",
       "ps_car_10_cat    45\n",
       "dtype: int64"
      ]
     },
     "execution_count": 63,
     "metadata": {},
     "output_type": "execute_result"
    }
   ],
   "source": [
    "data_raw[['target','ps_car_10_cat']].loc[data_raw['ps_car_10_cat']==0].loc[data_raw['target']==1].count()"
   ]
  },
  {
   "cell_type": "code",
   "execution_count": null,
   "metadata": {},
   "outputs": [],
   "source": []
  }
 ],
 "metadata": {
  "kernelspec": {
   "display_name": "Python 3",
   "language": "python",
   "name": "python3"
  },
  "language_info": {
   "codemirror_mode": {
    "name": "ipython",
    "version": 3
   },
   "file_extension": ".py",
   "mimetype": "text/x-python",
   "name": "python",
   "nbconvert_exporter": "python",
   "pygments_lexer": "ipython3",
   "version": "3.6.5"
  }
 },
 "nbformat": 4,
 "nbformat_minor": 2
}
